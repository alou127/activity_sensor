{
 "cells": [
  {
   "cell_type": "code",
   "execution_count": 1,
   "metadata": {},
   "outputs": [],
   "source": [
    "import numpy as np\n",
    "import pandas as pd"
   ]
  },
  {
   "cell_type": "markdown",
   "metadata": {},
   "source": [
    "# Getting the data into an array by 100 timesteps for a single file"
   ]
  },
  {
   "cell_type": "code",
   "execution_count": null,
   "metadata": {
    "scrolled": true
   },
   "outputs": [],
   "source": [
    "!pwd"
   ]
  },
  {
   "cell_type": "code",
   "execution_count": null,
   "metadata": {},
   "outputs": [],
   "source": [
    "df_subj4 = pd.read_csv(\"/Users/alexlou/ds/bootcamp/sensor_activity/activity_sensor/realistic_sensor_displacement/subject4_ideal.log\",\n",
    "                sep=\"\\t\",\n",
    "                names = range(120))"
   ]
  },
  {
   "cell_type": "code",
   "execution_count": null,
   "metadata": {},
   "outputs": [],
   "source": [
    "df_subj4.shape"
   ]
  },
  {
   "cell_type": "code",
   "execution_count": null,
   "metadata": {
    "scrolled": true
   },
   "outputs": [],
   "source": [
    "df_subj4.sample(800)"
   ]
  },
  {
   "cell_type": "code",
   "execution_count": null,
   "metadata": {
    "scrolled": true
   },
   "outputs": [],
   "source": [
    "col =[]\n",
    "\n",
    "for activity in df_subj4[119].unique():\n",
    "    exec(f\"df_subj4_{activity} = df_subj4[df_subj4[119]=={activity}]\")\n",
    "    col.append(activity)\n",
    "    "
   ]
  },
  {
   "cell_type": "code",
   "execution_count": null,
   "metadata": {},
   "outputs": [],
   "source": []
  },
  {
   "cell_type": "code",
   "execution_count": null,
   "metadata": {},
   "outputs": [],
   "source": [
    "len(df_subj4_31)"
   ]
  },
  {
   "cell_type": "code",
   "execution_count": null,
   "metadata": {
    "scrolled": true
   },
   "outputs": [],
   "source": [
    "df_subj4_31.reset_index(drop=True)"
   ]
  },
  {
   "cell_type": "code",
   "execution_count": null,
   "metadata": {},
   "outputs": [],
   "source": [
    "df_subj4_31[df_subj4_31[0]==505]"
   ]
  },
  {
   "cell_type": "code",
   "execution_count": null,
   "metadata": {},
   "outputs": [],
   "source": [
    "# each timeStep (row) is 20,000 microseconds. \n",
    "timeSteps = 100\n",
    "ls_timeSteps = [df_subj4_31[i * timeSteps:(i + 1) * timeSteps].to_numpy() for i in range((len(df_subj4_31) + timeSteps - 1) // timeSteps )] \n",
    "\n"
   ]
  },
  {
   "cell_type": "code",
   "execution_count": null,
   "metadata": {},
   "outputs": [],
   "source": [
    "ls_timeSteps"
   ]
  },
  {
   "cell_type": "code",
   "execution_count": null,
   "metadata": {},
   "outputs": [],
   "source": [
    "ls_timeSteps = [arr for arr in ls_timeSteps if arr.shape == (100, 120)]"
   ]
  },
  {
   "cell_type": "code",
   "execution_count": null,
   "metadata": {
    "scrolled": true
   },
   "outputs": [],
   "source": [
    "time_steps_stack = np.stack(ls_timeSteps)\n",
    "\n",
    "time_steps_stack.shape"
   ]
  },
  {
   "cell_type": "code",
   "execution_count": null,
   "metadata": {},
   "outputs": [],
   "source": [
    "time_steps_stack[1,:,-1]"
   ]
  },
  {
   "cell_type": "markdown",
   "metadata": {},
   "source": [
    "# Building the data pipeline"
   ]
  },
  {
   "cell_type": "markdown",
   "metadata": {},
   "source": [
    "## With activity 0 included"
   ]
  },
  {
   "cell_type": "code",
   "execution_count": 2,
   "metadata": {},
   "outputs": [],
   "source": [
    "col = []\n",
    "for ea_ideal in range(1,18):\n",
    "    exec(f\"df_subj_ideal_{ea_ideal} = pd.read_csv('/Users/alexlou/ds/bootcamp/sensor_activity/activity_sensor/realistic_sensor_displacement/subject{ea_ideal}_ideal.log', sep='\\t', names = range(120))\")\n",
    "    col.append(ea_ideal)"
   ]
  },
  {
   "cell_type": "code",
   "execution_count": 3,
   "metadata": {},
   "outputs": [
    {
     "data": {
      "text/plain": [
       "[1, 2, 3, 4, 5, 6, 7, 8, 9, 10, 11, 12, 13, 14, 15, 16, 17]"
      ]
     },
     "execution_count": 3,
     "metadata": {},
     "output_type": "execute_result"
    }
   ],
   "source": [
    "col"
   ]
  },
  {
   "cell_type": "code",
   "execution_count": 4,
   "metadata": {
    "scrolled": true
   },
   "outputs": [
    {
     "data": {
      "text/plain": [
       "(179037, 120)"
      ]
     },
     "execution_count": 4,
     "metadata": {},
     "output_type": "execute_result"
    }
   ],
   "source": [
    "df_subj_ideal_1.shape"
   ]
  },
  {
   "cell_type": "code",
   "execution_count": 5,
   "metadata": {},
   "outputs": [],
   "source": [
    "subj_num_ls = [df_subj_ideal_1,df_subj_ideal_2,df_subj_ideal_3,df_subj_ideal_4,df_subj_ideal_5,\n",
    "              df_subj_ideal_6,df_subj_ideal_7,df_subj_ideal_8,df_subj_ideal_9,df_subj_ideal_10,\n",
    "              df_subj_ideal_11,df_subj_ideal_12,df_subj_ideal_13,df_subj_ideal_14,df_subj_ideal_15,\n",
    "              df_subj_ideal_16,df_subj_ideal_17]"
   ]
  },
  {
   "cell_type": "code",
   "execution_count": null,
   "metadata": {},
   "outputs": [],
   "source": [
    "ls_of_dfs = []\n",
    "for num in range(1,18):\n",
    "    for activity in subj_num_ls[num-1][119].unique():\n",
    "        ls_of_dfs.append(f\"df_idealSubj{num}_{activity}\")\n"
   ]
  },
  {
   "cell_type": "code",
   "execution_count": null,
   "metadata": {
    "scrolled": false
   },
   "outputs": [],
   "source": [
    "ls_of_dfs[:5]"
   ]
  },
  {
   "cell_type": "code",
   "execution_count": null,
   "metadata": {},
   "outputs": [],
   "source": [
    "#df_idealSubj10_16"
   ]
  },
  {
   "cell_type": "code",
   "execution_count": null,
   "metadata": {},
   "outputs": [],
   "source": [
    "# ls_of_dfs_noZero = []\n",
    "# for num in range(1,18):\n",
    "#     for activity in subj_num_ls[num-1][119].unique():\n",
    "#         if activity == 0:\n",
    "#             continue\n",
    "#         ls_of_dfs_noZero.append(f\"df_idealSubj{num}_{activity}\")"
   ]
  },
  {
   "cell_type": "code",
   "execution_count": null,
   "metadata": {},
   "outputs": [],
   "source": [
    "# ls_of_dfs_noZero[:5]"
   ]
  },
  {
   "cell_type": "code",
   "execution_count": null,
   "metadata": {
    "scrolled": false
   },
   "outputs": [],
   "source": [
    "ls_of_dfs[34]"
   ]
  },
  {
   "cell_type": "code",
   "execution_count": null,
   "metadata": {
    "scrolled": false
   },
   "outputs": [],
   "source": [
    "#vars()[ls_of_dfs[34]].head()"
   ]
  },
  {
   "cell_type": "code",
   "execution_count": null,
   "metadata": {
    "scrolled": false
   },
   "outputs": [],
   "source": [
    "#vars()[ls_of_dfs[34]].shape"
   ]
  },
  {
   "cell_type": "code",
   "execution_count": null,
   "metadata": {},
   "outputs": [],
   "source": [
    "for num in range(1,18):\n",
    "    for activity in subj_num_ls[num-1][119].unique():\n",
    "        exec(f\"df_idealSubj{num}_{activity} = df_subj_ideal_{num}[df_subj_ideal_{num}[119]=={activity}]\")"
   ]
  },
  {
   "cell_type": "code",
   "execution_count": null,
   "metadata": {},
   "outputs": [],
   "source": [
    "df_idealSubj10_5.shape"
   ]
  },
  {
   "cell_type": "code",
   "execution_count": null,
   "metadata": {},
   "outputs": [],
   "source": [
    "ls_of_dfs[:5]"
   ]
  },
  {
   "cell_type": "code",
   "execution_count": null,
   "metadata": {},
   "outputs": [],
   "source": [
    "df_idealSubj1_0.head(2)"
   ]
  },
  {
   "cell_type": "code",
   "execution_count": null,
   "metadata": {},
   "outputs": [],
   "source": [
    "vars()[ls_of_dfs[0]].head(2)"
   ]
  },
  {
   "cell_type": "code",
   "execution_count": null,
   "metadata": {},
   "outputs": [],
   "source": [
    "ls_of_dfs[:5]"
   ]
  },
  {
   "cell_type": "code",
   "execution_count": null,
   "metadata": {},
   "outputs": [],
   "source": [
    "# each timeStep (row) is 20,000 microseconds. \n",
    "# timeSteps = 100\n",
    "# ls_timeSteps = [df_subj4_31[i * timeSteps:(i + 1) * timeSteps].to_numpy() for i in range((len(df_subj4_31) + timeSteps - 1) // timeSteps )] \n",
    "\n"
   ]
  },
  {
   "cell_type": "code",
   "execution_count": null,
   "metadata": {},
   "outputs": [],
   "source": [
    "col = []\n",
    "\n",
    "timeSteps = 100\n",
    "\n",
    "for individual_df in ls_of_dfs:\n",
    "    for i in range((len(vars()[individual_df]) + timeSteps - 1) // timeSteps ) :\n",
    "        col.append(vars()[individual_df][i * timeSteps:(i + 1) * timeSteps].to_numpy())\n"
   ]
  },
  {
   "cell_type": "code",
   "execution_count": null,
   "metadata": {},
   "outputs": [],
   "source": [
    "ls_timeSteps_master = [arr for arr in col if arr.shape == (100, 120)]"
   ]
  },
  {
   "cell_type": "code",
   "execution_count": null,
   "metadata": {},
   "outputs": [],
   "source": [
    "len(ls_timeSteps_master)"
   ]
  },
  {
   "cell_type": "code",
   "execution_count": null,
   "metadata": {},
   "outputs": [],
   "source": [
    "ls_timeSteps_master[9].shape"
   ]
  },
  {
   "cell_type": "code",
   "execution_count": null,
   "metadata": {},
   "outputs": [],
   "source": [
    "timeStepsStack = np.stack(ls_timeSteps_master)"
   ]
  },
  {
   "cell_type": "code",
   "execution_count": null,
   "metadata": {},
   "outputs": [],
   "source": [
    "timeStepsStack.shape"
   ]
  },
  {
   "cell_type": "code",
   "execution_count": null,
   "metadata": {},
   "outputs": [],
   "source": [
    "type(timeStepsStack)"
   ]
  },
  {
   "cell_type": "markdown",
   "metadata": {},
   "source": [
    "\"\"\"\n",
    "activity_ls = []\n",
    "subj_num_ls = [df_subj_ideal_1,df_subj_ideal_2,df_subj_ideal_3,df_subj_ideal_4,df_subj_ideal_5,\n",
    "              df_subj_ideal_6,df_subj_ideal_7,df_subj_ideal_8,df_subj_ideal_9,df_subj_ideal_10,\n",
    "              df_subj_ideal_11,df_subj_ideal_12,df_subj_ideal_13,df_subj_ideal_14,df_subj_ideal_15,\n",
    "              df_subj_ideal_16,df_subj_ideal_17]\n",
    "\n",
    "def split_ea_subj_on_activity(subj_num):\n",
    "    for activity in subj_num_ls[subj_num][119].unique():\n",
    "        exec(f\"df_Ideal{subj_num+1}_{activity} = df_subj_ideal_{subj_num+1}[df_subj_ideal_{subj_num+1}[119]=={activity}]\")\n",
    "        \"\"\""
   ]
  },
  {
   "cell_type": "markdown",
   "metadata": {},
   "source": [
    "internal coordinates"
   ]
  },
  {
   "cell_type": "code",
   "execution_count": null,
   "metadata": {},
   "outputs": [],
   "source": [
    "y_withZero = timeStepsStack[:,:,-1].reshape(-1,100,1)\n",
    "X_withZero = timeStepsStack[:,:,2:-1]"
   ]
  },
  {
   "cell_type": "code",
   "execution_count": null,
   "metadata": {},
   "outputs": [],
   "source": [
    "y_withZero.shape"
   ]
  },
  {
   "cell_type": "code",
   "execution_count": null,
   "metadata": {},
   "outputs": [],
   "source": [
    "y_withZero = y_withZero[:,0,0]"
   ]
  },
  {
   "cell_type": "code",
   "execution_count": null,
   "metadata": {},
   "outputs": [],
   "source": [
    "y_withZero.shape"
   ]
  },
  {
   "cell_type": "code",
   "execution_count": null,
   "metadata": {
    "scrolled": true
   },
   "outputs": [],
   "source": [
    "X_withZero.shape"
   ]
  },
  {
   "cell_type": "markdown",
   "metadata": {},
   "source": [
    "## Test/Trian Split with Zero Class"
   ]
  },
  {
   "cell_type": "code",
   "execution_count": null,
   "metadata": {},
   "outputs": [],
   "source": [
    "from sklearn.model_selection import train_test_split"
   ]
  },
  {
   "cell_type": "code",
   "execution_count": null,
   "metadata": {},
   "outputs": [],
   "source": [
    "X_train_withZero, X_test_withZero, y_train_withZero, y_test_withZero = train_test_split(X_withZero, y_withZero, test_size=.2, random_state=555)"
   ]
  },
  {
   "cell_type": "code",
   "execution_count": null,
   "metadata": {},
   "outputs": [],
   "source": [
    "print(X_train_withZero.shape, X_test_withZero.shape)"
   ]
  },
  {
   "cell_type": "code",
   "execution_count": null,
   "metadata": {},
   "outputs": [],
   "source": [
    "print(y_train_withZero.shape, y_test_withZero.shape)"
   ]
  },
  {
   "cell_type": "markdown",
   "metadata": {},
   "source": [
    "## Without 0 class include"
   ]
  },
  {
   "cell_type": "code",
   "execution_count": 13,
   "metadata": {},
   "outputs": [],
   "source": [
    "ls_of_dfs_noZero = []\n",
    "for num in range(1,18):\n",
    "    for activity in subj_num_ls[num-1][119].unique():\n",
    "        if activity == 0:\n",
    "            continue\n",
    "        ls_of_dfs_noZero.append(f\"df_noZeroClass_idealSubj{num}_{activity}\")"
   ]
  },
  {
   "cell_type": "code",
   "execution_count": 14,
   "metadata": {
    "scrolled": true
   },
   "outputs": [
    {
     "data": {
      "text/plain": [
       "['df_noZeroClass_idealSubj1_1',\n",
       " 'df_noZeroClass_idealSubj1_2',\n",
       " 'df_noZeroClass_idealSubj1_3',\n",
       " 'df_noZeroClass_idealSubj1_4',\n",
       " 'df_noZeroClass_idealSubj1_5']"
      ]
     },
     "execution_count": 14,
     "metadata": {},
     "output_type": "execute_result"
    }
   ],
   "source": [
    "ls_of_dfs_noZero[:5]"
   ]
  },
  {
   "cell_type": "code",
   "execution_count": 8,
   "metadata": {},
   "outputs": [],
   "source": [
    "for num in range(1,18):\n",
    "    for activity in subj_num_ls[num-1][119].unique():\n",
    "        if activity == 0:\n",
    "            continue\n",
    "        exec(f\"df_noZeroClass_idealSubj{num}_{activity} = df_subj_ideal_{num}[df_subj_ideal_{num}[119]=={activity}]\")"
   ]
  },
  {
   "cell_type": "code",
   "execution_count": 10,
   "metadata": {},
   "outputs": [
    {
     "data": {
      "text/plain": [
       "508"
      ]
     },
     "execution_count": 10,
     "metadata": {},
     "output_type": "execute_result"
    }
   ],
   "source": [
    "len(ls_of_dfs_noZero)"
   ]
  },
  {
   "cell_type": "code",
   "execution_count": 11,
   "metadata": {
    "scrolled": true
   },
   "outputs": [
    {
     "data": {
      "text/html": [
       "<div>\n",
       "<style scoped>\n",
       "    .dataframe tbody tr th:only-of-type {\n",
       "        vertical-align: middle;\n",
       "    }\n",
       "\n",
       "    .dataframe tbody tr th {\n",
       "        vertical-align: top;\n",
       "    }\n",
       "\n",
       "    .dataframe thead th {\n",
       "        text-align: right;\n",
       "    }\n",
       "</style>\n",
       "<table border=\"1\" class=\"dataframe\">\n",
       "  <thead>\n",
       "    <tr style=\"text-align: right;\">\n",
       "      <th></th>\n",
       "      <th>0</th>\n",
       "      <th>1</th>\n",
       "      <th>2</th>\n",
       "      <th>3</th>\n",
       "      <th>4</th>\n",
       "      <th>5</th>\n",
       "      <th>6</th>\n",
       "      <th>7</th>\n",
       "      <th>8</th>\n",
       "      <th>9</th>\n",
       "      <th>...</th>\n",
       "      <th>110</th>\n",
       "      <th>111</th>\n",
       "      <th>112</th>\n",
       "      <th>113</th>\n",
       "      <th>114</th>\n",
       "      <th>115</th>\n",
       "      <th>116</th>\n",
       "      <th>117</th>\n",
       "      <th>118</th>\n",
       "      <th>119</th>\n",
       "    </tr>\n",
       "  </thead>\n",
       "  <tbody>\n",
       "    <tr>\n",
       "      <th>9001</th>\n",
       "      <td>180</td>\n",
       "      <td>40000.0</td>\n",
       "      <td>-13.252</td>\n",
       "      <td>-0.00392</td>\n",
       "      <td>6.6321</td>\n",
       "      <td>-0.51773</td>\n",
       "      <td>0.157990</td>\n",
       "      <td>-0.128210</td>\n",
       "      <td>0.63503</td>\n",
       "      <td>0.18743</td>\n",
       "      <td>...</td>\n",
       "      <td>1.3528</td>\n",
       "      <td>0.51087</td>\n",
       "      <td>0.55823</td>\n",
       "      <td>0.34240</td>\n",
       "      <td>0.50473</td>\n",
       "      <td>0.45286</td>\n",
       "      <td>0.35794</td>\n",
       "      <td>0.77151</td>\n",
       "      <td>-0.26751</td>\n",
       "      <td>6</td>\n",
       "    </tr>\n",
       "    <tr>\n",
       "      <th>9002</th>\n",
       "      <td>180</td>\n",
       "      <td>60000.0</td>\n",
       "      <td>-17.728</td>\n",
       "      <td>0.80822</td>\n",
       "      <td>8.1396</td>\n",
       "      <td>-0.50296</td>\n",
       "      <td>-0.012724</td>\n",
       "      <td>-0.045608</td>\n",
       "      <td>0.63415</td>\n",
       "      <td>0.19333</td>\n",
       "      <td>...</td>\n",
       "      <td>1.0212</td>\n",
       "      <td>0.31682</td>\n",
       "      <td>0.55227</td>\n",
       "      <td>0.34423</td>\n",
       "      <td>0.51136</td>\n",
       "      <td>0.44301</td>\n",
       "      <td>0.36675</td>\n",
       "      <td>0.77273</td>\n",
       "      <td>-0.26858</td>\n",
       "      <td>6</td>\n",
       "    </tr>\n",
       "  </tbody>\n",
       "</table>\n",
       "<p>2 rows × 120 columns</p>\n",
       "</div>"
      ],
      "text/plain": [
       "      0        1       2        3       4        5         6         7    \\\n",
       "9001  180  40000.0 -13.252 -0.00392  6.6321 -0.51773  0.157990 -0.128210   \n",
       "9002  180  60000.0 -17.728  0.80822  8.1396 -0.50296 -0.012724 -0.045608   \n",
       "\n",
       "          8        9    ...     110      111      112      113      114  \\\n",
       "9001  0.63503  0.18743  ...  1.3528  0.51087  0.55823  0.34240  0.50473   \n",
       "9002  0.63415  0.19333  ...  1.0212  0.31682  0.55227  0.34423  0.51136   \n",
       "\n",
       "          115      116      117      118  119  \n",
       "9001  0.45286  0.35794  0.77151 -0.26751    6  \n",
       "9002  0.44301  0.36675  0.77273 -0.26858    6  \n",
       "\n",
       "[2 rows x 120 columns]"
      ]
     },
     "execution_count": 11,
     "metadata": {},
     "output_type": "execute_result"
    }
   ],
   "source": [
    "df_noZeroClass_idealSubj11_6.head(2)"
   ]
  },
  {
   "cell_type": "code",
   "execution_count": 15,
   "metadata": {},
   "outputs": [],
   "source": [
    "col = []\n",
    "\n",
    "timeSteps = 100\n",
    "\n",
    "for individual_df in ls_of_dfs_noZero:\n",
    "    for i in range((len(vars()[individual_df]) + timeSteps - 1) // timeSteps ) :\n",
    "        col.append(vars()[individual_df][i * timeSteps:(i + 1) * timeSteps].to_numpy())"
   ]
  },
  {
   "cell_type": "code",
   "execution_count": 16,
   "metadata": {},
   "outputs": [],
   "source": [
    "ls_timeSteps_master_noZero = [arr for arr in col if arr.shape == (100, 120)]"
   ]
  },
  {
   "cell_type": "code",
   "execution_count": 17,
   "metadata": {},
   "outputs": [
    {
     "data": {
      "text/plain": [
       "6866"
      ]
     },
     "execution_count": 17,
     "metadata": {},
     "output_type": "execute_result"
    }
   ],
   "source": [
    "len(ls_timeSteps_master_noZero)"
   ]
  },
  {
   "cell_type": "code",
   "execution_count": 19,
   "metadata": {},
   "outputs": [
    {
     "data": {
      "text/plain": [
       "28.0"
      ]
     },
     "execution_count": 19,
     "metadata": {},
     "output_type": "execute_result"
    }
   ],
   "source": [
    "ls_timeSteps_master_noZero[6000][0,-1]"
   ]
  },
  {
   "cell_type": "code",
   "execution_count": 21,
   "metadata": {},
   "outputs": [],
   "source": [
    "timeStepsStack_noZero = []\n",
    "timeStepsStack_noZero = np.stack(ls_timeSteps_master_noZero)"
   ]
  },
  {
   "cell_type": "code",
   "execution_count": 22,
   "metadata": {},
   "outputs": [
    {
     "data": {
      "text/plain": [
       "(6866, 100, 120)"
      ]
     },
     "execution_count": 22,
     "metadata": {},
     "output_type": "execute_result"
    }
   ],
   "source": [
    "timeStepsStack_noZero.shape"
   ]
  },
  {
   "cell_type": "code",
   "execution_count": 24,
   "metadata": {},
   "outputs": [],
   "source": [
    "y_noZero = timeStepsStack_noZero[:,:,-1].reshape(-1,100,1)\n",
    "X_noZero = timeStepsStack_noZero[:,:,2:-1]"
   ]
  },
  {
   "cell_type": "code",
   "execution_count": 25,
   "metadata": {},
   "outputs": [],
   "source": [
    "y_noZero = y_noZero[:,0,0]"
   ]
  },
  {
   "cell_type": "code",
   "execution_count": 26,
   "metadata": {},
   "outputs": [
    {
     "name": "stdout",
     "output_type": "stream",
     "text": [
      "(6866,) (6866, 100, 117)\n"
     ]
    }
   ],
   "source": [
    "print(y_noZero.shape, X_noZero.shape)"
   ]
  },
  {
   "cell_type": "markdown",
   "metadata": {},
   "source": [
    "## Test/Train Split without Zero Class"
   ]
  },
  {
   "cell_type": "code",
   "execution_count": 27,
   "metadata": {},
   "outputs": [],
   "source": [
    "from sklearn.model_selection import train_test_split"
   ]
  },
  {
   "cell_type": "code",
   "execution_count": 28,
   "metadata": {},
   "outputs": [],
   "source": [
    "X_train_noZero, X_test_noZero, y_train_noZero, y_test_noZero = train_test_split(X_noZero, y_noZero, test_size=.2, random_state=555)"
   ]
  },
  {
   "cell_type": "code",
   "execution_count": 29,
   "metadata": {},
   "outputs": [
    {
     "name": "stdout",
     "output_type": "stream",
     "text": [
      "(5492, 100, 117) (1374, 100, 117)\n"
     ]
    }
   ],
   "source": [
    "print(X_train_noZero.shape, X_test_noZero.shape)"
   ]
  },
  {
   "cell_type": "code",
   "execution_count": 30,
   "metadata": {},
   "outputs": [
    {
     "name": "stdout",
     "output_type": "stream",
     "text": [
      "(5492,) (1374,)\n"
     ]
    }
   ],
   "source": [
    "print(y_train_noZero.shape, y_test_noZero.shape)"
   ]
  },
  {
   "cell_type": "markdown",
   "metadata": {},
   "source": [
    "# Modeling"
   ]
  },
  {
   "cell_type": "code",
   "execution_count": null,
   "metadata": {},
   "outputs": [],
   "source": [
    "# verbose=2, shuffle=False"
   ]
  },
  {
   "cell_type": "code",
   "execution_count": null,
   "metadata": {},
   "outputs": [],
   "source": [
    "from keras.models import Sequential\n",
    "from keras.layers import (Dense, Embedding, Reshape, Activation, \n",
    "                          SimpleRNN, LSTM, Convolution1D, \n",
    "                          MaxPooling1D, Dropout, Bidirectional)"
   ]
  },
  {
   "cell_type": "code",
   "execution_count": null,
   "metadata": {},
   "outputs": [],
   "source": [
    "# design network\n",
    "model = Sequential()\n",
    "model.add(LSTM(117, input_shape=(X_train_withZero[0],X_train_withZero[1],X_train_withZero[2])))\n",
    "model.add(Dense(1))\n",
    "model.add(Activation('softmax'))\n",
    "model.compile(loss='sparse_categorical_crossentropy', optimizer='adam', metrics=['accuracy'])\n",
    "# fit network\n",
    "print('Train...')\n",
    "model.fit(X_train_withZero, y_train_withZero, epochs=15, batch_size=X_train_withZero[0],\n",
    "          validation_data=(X_test_withZero, y_test_withZero))\n",
    "\n",
    "score, acc = model.evaluate(X_test_withZero, y_test_withZero, batch_size=X_test_withZero[0])\n",
    "print('Test score:', score)\n",
    "print('Test accuracy:', acc)\n",
    "\n",
    "model.summary()"
   ]
  },
  {
   "cell_type": "code",
   "execution_count": null,
   "metadata": {},
   "outputs": [],
   "source": [
    "from keras import backend as K\n",
    "\n",
    "def recall_m(y_true, y_pred):\n",
    "        true_positives = K.sum(K.round(K.clip(y_true * y_pred, 0, 1)))\n",
    "        possible_positives = K.sum(K.round(K.clip(y_true, 0, 1)))\n",
    "        recall = true_positives / (possible_positives + K.epsilon())\n",
    "        return recall\n",
    "\n",
    "def precision_m(y_true, y_pred):\n",
    "        true_positives = K.sum(K.round(K.clip(y_true * y_pred, 0, 1)))\n",
    "        predicted_positives = K.sum(K.round(K.clip(y_pred, 0, 1)))\n",
    "        precision = true_positives / (predicted_positives + K.epsilon())\n",
    "        return precision\n",
    "\n",
    "def f1_m(y_true, y_pred):\n",
    "    precision = precision_m(y_true, y_pred)\n",
    "    recall = recall_m(y_true, y_pred)\n",
    "    return 2*((precision*recall)/(precision+recall+K.epsilon()))"
   ]
  },
  {
   "cell_type": "code",
   "execution_count": null,
   "metadata": {},
   "outputs": [],
   "source": [
    "# design network\n",
    "model = Sequential()\n",
    "model.add(LSTM(50, input_shape=(X_train_withZero.shape[1],X_train_withZero.shape[2])))\n",
    "model.add(Dense(34))\n",
    "model.add(Activation('softmax'))\n",
    "model.compile(loss='sparse_categorical_crossentropy', optimizer='adam', metrics=['acc',f1_m,precision_m, recall_m])\n",
    "# fit network\n",
    "print('Train...')\n",
    "model.fit(X_train_withZero, y_train_withZero, epochs=15, batch_size=X_train_withZero.shape[0],\n",
    "          validation_data=(X_test_withZero, y_test_withZero))\n",
    "\n",
    "# evaluate the model\n",
    "loss, accuracy, f1_score, precision, recall = model.evaluate(X_test_withZero, y_test_withZero, batch_size=X_test_withZero.shape[0])\n",
    "#score, acc = model.evaluate(X_test_withZero, y_test_withZero, batch_size=X_test_withZero.shape[0])\n",
    "#print('Test score:', score)\n",
    "print('Test accuracy:', accuracy)\n",
    "print('Test f1_score:', f1_score)\n",
    "print('Test precision:', precision)\n",
    "print('Test recall:', recall)\n",
    "\n",
    "model.summary()"
   ]
  },
  {
   "cell_type": "code",
   "execution_count": null,
   "metadata": {},
   "outputs": [],
   "source": [
    "# design network\n",
    "model = Sequential()\n",
    "model.add(LSTM(50, input_shape=(X_train_withZero.shape[1],X_train_withZero.shape[2])))\n",
    "model.add(Dense(34))\n",
    "model.add(Activation('softmax'))\n",
    "model.compile(loss='sparse_categorical_crossentropy', optimizer='adam', metrics=['accuracy'])\n",
    "\n",
    "# fit network\n",
    "print('Train...')\n",
    "model.fit(X_train_withZero, y_train_withZero, epochs=15, batch_size=X_train_withZero.shape[0],\n",
    "          validation_data=(X_test_withZero, y_test_withZero))\n",
    "\n",
    "# evaluate the model\n",
    "#loss, accuracy, f1_score, precision, recall = model.evaluate(X_test_withZero, y_test_withZero, batch_size=X_test_withZero.shape[0])\n",
    "score, acc = model.evaluate(X_test_withZero, y_test_withZero, batch_size=X_test_withZero.shape[0])\n",
    "print('Test score:', score)\n",
    "print('Test accuracy:', acc)\n",
    "\n",
    "model.summary()"
   ]
  },
  {
   "cell_type": "markdown",
   "metadata": {},
   "source": [
    "### LSTM w/o Zero"
   ]
  },
  {
   "cell_type": "code",
   "execution_count": null,
   "metadata": {},
   "outputs": [],
   "source": [
    "y_train_noZero = y_train_noZero.astype(int) - np.min(y_train_noZero)\n",
    "y_test_noZero = y_test_noZero.astype(int) - np.min(y_test_noZero)"
   ]
  },
  {
   "cell_type": "code",
   "execution_count": null,
   "metadata": {},
   "outputs": [],
   "source": [
    "# design network\n",
    "model = Sequential()\n",
    "model.add(LSTM(50, input_shape=(X_train_noZero.shape[1],X_train_noZero.shape[2])))\n",
    "model.add(Dense(len(np.unique(y_train_noZero))))\n",
    "model.add(Activation('softmax'))\n",
    "model.compile(loss=losses.sparse_categorical_crossentropy, \n",
    "              optimizer='adam', \n",
    "              metrics=['accuracy'])\n",
    "\n",
    "model.summary()\n"
   ]
  },
  {
   "cell_type": "code",
   "execution_count": null,
   "metadata": {},
   "outputs": [],
   "source": [
    "# fit network\n",
    "print('Train...')\n",
    "model.fit(X_train_noZero, y_train_noZero, epochs=10, \n",
    "          validation_split=.25, \n",
    "#           batch_size=X_train_noZero.shape[0]\n",
    "         )\n",
    "\n",
    "# evaluate the model\n",
    "#loss, accuracy, f1_score, precision, recall = model.evaluate(X_test_withZero, y_test_withZero, batch_size=X_test_withZero.shape[0])\n",
    "score, acc = model.evaluate(X_test_noZero, y_test_noZero, \n",
    "                            #batch_size = X_test_noZero.shape[0]\n",
    "                           )\n",
    "print('Test score:', score)\n",
    "print('Test accuracy:', acc)"
   ]
  },
  {
   "cell_type": "code",
   "execution_count": null,
   "metadata": {},
   "outputs": [],
   "source": [
    "X_train_withZero[0]"
   ]
  },
  {
   "cell_type": "code",
   "execution_count": null,
   "metadata": {},
   "outputs": [],
   "source": [
    "res = model.predict_classes(X_train_withZero)"
   ]
  },
  {
   "cell_type": "code",
   "execution_count": null,
   "metadata": {},
   "outputs": [],
   "source": [
    "import matplotlib.pyplot as plt\n",
    "%matplotlib inline"
   ]
  },
  {
   "cell_type": "code",
   "execution_count": null,
   "metadata": {},
   "outputs": [],
   "source": [
    "plt.hist(res)"
   ]
  },
  {
   "cell_type": "code",
   "execution_count": null,
   "metadata": {},
   "outputs": [],
   "source": []
  }
 ],
 "metadata": {
  "kernelspec": {
   "display_name": "metis",
   "language": "python",
   "name": "metis"
  },
  "language_info": {
   "codemirror_mode": {
    "name": "ipython",
    "version": 3
   },
   "file_extension": ".py",
   "mimetype": "text/x-python",
   "name": "python",
   "nbconvert_exporter": "python",
   "pygments_lexer": "ipython3",
   "version": "3.6.9"
  }
 },
 "nbformat": 4,
 "nbformat_minor": 2
}
