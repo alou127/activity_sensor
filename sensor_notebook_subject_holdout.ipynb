{
 "cells": [
  {
   "cell_type": "markdown",
   "metadata": {},
   "source": [
    "# LSTM with no 0 class and holdig out 2 subjects"
   ]
  },
  {
   "cell_type": "code",
   "execution_count": 1,
   "metadata": {},
   "outputs": [
    {
     "name": "stderr",
     "output_type": "stream",
     "text": [
      "Using TensorFlow backend.\n"
     ]
    }
   ],
   "source": [
    "import numpy as np\n",
    "import pandas as pd\n",
    "import matplotlib.pyplot as plt\n",
    "%matplotlib inline\n",
    "import seaborn as sns\n",
    "from keras import losses\n",
    "from keras.models import Sequential\n",
    "from keras.layers import (Dense, Embedding, Reshape, Activation, \n",
    "                          SimpleRNN, LSTM, Convolution1D, \n",
    "                          MaxPooling1D, Dropout, Bidirectional)\n",
    "from sklearn.model_selection import train_test_split"
   ]
  },
  {
   "cell_type": "code",
   "execution_count": null,
   "metadata": {},
   "outputs": [],
   "source": [
    "from google.colab import drive\n",
    "drive.mount('/content/drive')"
   ]
  },
  {
   "cell_type": "code",
   "execution_count": null,
   "metadata": {},
   "outputs": [],
   "source": [
    "col = []\n",
    "for ea_ideal in range(1,18):\n",
    "    exec(f\"df_subj_ideal_{ea_ideal} = pd.read_csv('/content/drive/My Drive/realistic_sensor_displacement/subject{ea_ideal}_ideal.log', sep='\\t', names = range(120))\")\n",
    "    col.append(ea_ideal)"
   ]
  },
  {
   "cell_type": "code",
   "execution_count": null,
   "metadata": {},
   "outputs": [],
   "source": [
    "col"
   ]
  },
  {
   "cell_type": "code",
   "execution_count": null,
   "metadata": {},
   "outputs": [],
   "source": [
    "df_subj_ideal_1.shape"
   ]
  },
  {
   "cell_type": "code",
   "execution_count": null,
   "metadata": {},
   "outputs": [],
   "source": [
    "subj_num_ls = [df_subj_ideal_1,df_subj_ideal_2,df_subj_ideal_3,df_subj_ideal_4,df_subj_ideal_5,\n",
    "              df_subj_ideal_6,df_subj_ideal_7,df_subj_ideal_8,df_subj_ideal_9,df_subj_ideal_10,\n",
    "              df_subj_ideal_11,df_subj_ideal_12,df_subj_ideal_13,df_subj_ideal_14,df_subj_ideal_15,\n",
    "              df_subj_ideal_16,df_subj_ideal_17]"
   ]
  },
  {
   "cell_type": "code",
   "execution_count": null,
   "metadata": {},
   "outputs": [],
   "source": [
    "ls_of_dfs = []\n",
    "for num in range(1,18):\n",
    "    for activity in subj_num_ls[num-1][119].unique():\n",
    "        ls_of_dfs.append(f\"df_idealSubj{num}_{activity}\")"
   ]
  },
  {
   "cell_type": "code",
   "execution_count": null,
   "metadata": {},
   "outputs": [],
   "source": [
    "ls_of_dfs[:5]"
   ]
  },
  {
   "cell_type": "markdown",
   "metadata": {},
   "source": [
    "## Without 0 class and 2 subjects"
   ]
  },
  {
   "cell_type": "code",
   "execution_count": null,
   "metadata": {},
   "outputs": [],
   "source": [
    "ls_of_dfs_noZero = []\n",
    "for num in range(1,18):\n",
    "    for activity in subj_num_ls[num-1][119].unique():\n",
    "#         if num == 2 or num == 3:    #skip subject \n",
    "#             continue\n",
    "        if activity == 0:    #skip 0 activity (no activity labeled)\n",
    "            continue\n",
    "        ls_of_dfs_noZero.append(f\"df_noZeroClass_idealSubj{num}_{activity}\")"
   ]
  },
  {
   "cell_type": "code",
   "execution_count": null,
   "metadata": {},
   "outputs": [],
   "source": [
    "ls_of_dfs_noZero[30:40]"
   ]
  },
  {
   "cell_type": "code",
   "execution_count": null,
   "metadata": {},
   "outputs": [],
   "source": [
    "for num in range(1,18):\n",
    "    for activity in subj_num_ls[num-1][119].unique():\n",
    "        if activity == 0:\n",
    "            continue\n",
    "        exec(f\"df_noZeroClass_idealSubj{num}_{activity} = df_subj_ideal_{num}[df_subj_ideal_{num}[119]=={activity}]\")"
   ]
  },
  {
   "cell_type": "code",
   "execution_count": null,
   "metadata": {},
   "outputs": [],
   "source": [
    "len(ls_of_dfs_noZero)"
   ]
  },
  {
   "cell_type": "code",
   "execution_count": null,
   "metadata": {},
   "outputs": [],
   "source": [
    "df_noZeroClass_idealSubj9_30.head(2)"
   ]
  },
  {
   "cell_type": "code",
   "execution_count": null,
   "metadata": {},
   "outputs": [],
   "source": [
    "ls_of_dfs_noZero[-1]"
   ]
  },
  {
   "cell_type": "code",
   "execution_count": null,
   "metadata": {},
   "outputs": [],
   "source": [
    "col = []\n",
    "\n",
    "timeSteps = 100\n",
    "\n",
    "for individual_df in ls_of_dfs_noZero:\n",
    "    for i in range((len(vars()[individual_df]) + timeSteps - 1) // timeSteps ) :\n",
    "        col.append(vars()[individual_df][i * timeSteps:(i + 1) * timeSteps].to_numpy())"
   ]
  },
  {
   "cell_type": "code",
   "execution_count": null,
   "metadata": {},
   "outputs": [],
   "source": [
    "ls_timeSteps_master_noZero = [arr for arr in col if arr.shape == (100, 120)]"
   ]
  },
  {
   "cell_type": "code",
   "execution_count": null,
   "metadata": {},
   "outputs": [],
   "source": [
    "len(ls_timeSteps_master_noZero)"
   ]
  },
  {
   "cell_type": "code",
   "execution_count": null,
   "metadata": {},
   "outputs": [],
   "source": [
    "ls_timeSteps_master_noZero[6000][0,-1]"
   ]
  },
  {
   "cell_type": "code",
   "execution_count": null,
   "metadata": {},
   "outputs": [],
   "source": [
    "timeStepsStack_noZero = []\n",
    "timeStepsStack_noZero = np.stack(ls_timeSteps_master_noZero)"
   ]
  },
  {
   "cell_type": "code",
   "execution_count": null,
   "metadata": {},
   "outputs": [],
   "source": [
    "timeStepsStack_noZero.shape"
   ]
  },
  {
   "cell_type": "code",
   "execution_count": null,
   "metadata": {},
   "outputs": [],
   "source": [
    "y_noZero = timeStepsStack_noZero[:,:,-1]\n",
    "X_noZero = timeStepsStack_noZero[:,:,2:-1]"
   ]
  },
  {
   "cell_type": "code",
   "execution_count": null,
   "metadata": {},
   "outputs": [],
   "source": [
    "y_noZero = y_noZero[:,0]"
   ]
  },
  {
   "cell_type": "code",
   "execution_count": null,
   "metadata": {},
   "outputs": [],
   "source": [
    "plt.hist(y_noZero)"
   ]
  },
  {
   "cell_type": "code",
   "execution_count": null,
   "metadata": {},
   "outputs": [],
   "source": [
    "print(y_noZero.shape, X_noZero.shape)"
   ]
  },
  {
   "cell_type": "markdown",
   "metadata": {},
   "source": [
    "## Test/Train Split without 0 class"
   ]
  },
  {
   "cell_type": "code",
   "execution_count": null,
   "metadata": {},
   "outputs": [],
   "source": [
    "X_train_noZero, X_test_noZero, y_train_noZero, y_test_noZero = train_test_split(X_noZero, y_noZero, test_size=.2, random_state=17)"
   ]
  },
  {
   "cell_type": "code",
   "execution_count": null,
   "metadata": {},
   "outputs": [],
   "source": [
    "print(X_train_noZero.shape, X_test_noZero.shape)"
   ]
  },
  {
   "cell_type": "code",
   "execution_count": null,
   "metadata": {},
   "outputs": [],
   "source": [
    "print(y_train_noZero.shape, y_test_noZero.shape)"
   ]
  },
  {
   "cell_type": "markdown",
   "metadata": {},
   "source": [
    "## LSTM"
   ]
  },
  {
   "cell_type": "code",
   "execution_count": null,
   "metadata": {},
   "outputs": [],
   "source": [
    "# design network\n",
    "model = Sequential()\n",
    "model.add(LSTM(50, input_shape=(X_train_noZero.shape[1],X_train_noZero.shape[2])))\n",
    "model.add(Dense(len(np.unique(y_train_noZero))))\n",
    "model.add(Activation('softmax'))\n",
    "model.compile(loss=losses.sparse_categorical_crossentropy, \n",
    "              optimizer='adam', \n",
    "              metrics=['accuracy'])\n",
    "\n",
    "model.summary()"
   ]
  },
  {
   "cell_type": "code",
   "execution_count": null,
   "metadata": {},
   "outputs": [],
   "source": [
    "# fit network\n",
    "print('Train...')\n",
    "model.fit(X_train_noZero, y_train_noZero, epochs=100, \n",
    "          validation_split=.25, \n",
    "          callbacks=[\n",
    "        keras.callbacks.EarlyStopping(patience=8, verbose=1, restore_best_weights=True),\n",
    "        keras.callbacks.ReduceLROnPlateau(factor=.5, patience=3, verbose=1)]\n",
    "         )\n",
    "\n",
    "# evaluate the model\n",
    "#loss, accuracy, f1_score, precision, recall = model.evaluate(X_test_withZero, y_test_withZero, batch_size=X_test_withZero.shape[0])\n",
    "score, acc = model.evaluate(X_test_noZero, y_test_noZero, \n",
    "                            #batch_size = X_test_noZero.shape[0]\n",
    "                           )\n",
    "print('Test score:', score)\n",
    "print('Test accuracy:', acc)"
   ]
  },
  {
   "cell_type": "code",
   "execution_count": null,
   "metadata": {},
   "outputs": [],
   "source": []
  }
 ],
 "metadata": {
  "kernelspec": {
   "display_name": "metis",
   "language": "python",
   "name": "metis"
  },
  "language_info": {
   "codemirror_mode": {
    "name": "ipython",
    "version": 3
   },
   "file_extension": ".py",
   "mimetype": "text/x-python",
   "name": "python",
   "nbconvert_exporter": "python",
   "pygments_lexer": "ipython3",
   "version": "3.6.9"
  }
 },
 "nbformat": 4,
 "nbformat_minor": 2
}
